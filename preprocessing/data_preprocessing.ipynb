{
 "cells": [
  {
   "cell_type": "code",
   "execution_count": 2,
   "metadata": {},
   "outputs": [],
   "source": [
    "import pandas as pd\n",
    "import re"
   ]
  },
  {
   "cell_type": "code",
   "execution_count": 3,
   "metadata": {},
   "outputs": [],
   "source": [
    "df = pd.read_csv(\"../data/news_dataset.csv\")"
   ]
  },
  {
   "cell_type": "code",
   "execution_count": 4,
   "metadata": {},
   "outputs": [
    {
     "data": {
      "text/html": [
       "<div>\n",
       "<style scoped>\n",
       "    .dataframe tbody tr th:only-of-type {\n",
       "        vertical-align: middle;\n",
       "    }\n",
       "\n",
       "    .dataframe tbody tr th {\n",
       "        vertical-align: top;\n",
       "    }\n",
       "\n",
       "    .dataframe thead th {\n",
       "        text-align: right;\n",
       "    }\n",
       "</style>\n",
       "<table border=\"1\" class=\"dataframe\">\n",
       "  <thead>\n",
       "    <tr style=\"text-align: right;\">\n",
       "      <th></th>\n",
       "      <th>article</th>\n",
       "      <th>summary</th>\n",
       "    </tr>\n",
       "  </thead>\n",
       "  <tbody>\n",
       "    <tr>\n",
       "      <th>0</th>\n",
       "      <td>ray dvd beats box office takings  oscar-nomina...</td>\n",
       "      <td>ray has been nominated in six oscar categories...</td>\n",
       "    </tr>\n",
       "    <tr>\n",
       "      <th>1</th>\n",
       "      <td>baghdad blogger on big screen  a film based on...</td>\n",
       "      <td>a film based on the internet musings of the \"b...</td>\n",
       "    </tr>\n",
       "    <tr>\n",
       "      <th>2</th>\n",
       "      <td>spector facing more legal action  music produc...</td>\n",
       "      <td>ms clarkson's legal action, filed in los angel...</td>\n",
       "    </tr>\n",
       "    <tr>\n",
       "      <th>3</th>\n",
       "      <td>john peel replacement show begins  the permane...</td>\n",
       "      <td>the permanent replacement for late dj john pee...</td>\n",
       "    </tr>\n",
       "    <tr>\n",
       "      <th>4</th>\n",
       "      <td>no charges against tv's cosby  us comedian bil...</td>\n",
       "      <td>cosby's lawyer, walter m phillips jr, said the...</td>\n",
       "    </tr>\n",
       "  </tbody>\n",
       "</table>\n",
       "</div>"
      ],
      "text/plain": [
       "                                             article  \\\n",
       "0  ray dvd beats box office takings  oscar-nomina...   \n",
       "1  baghdad blogger on big screen  a film based on...   \n",
       "2  spector facing more legal action  music produc...   \n",
       "3  john peel replacement show begins  the permane...   \n",
       "4  no charges against tv's cosby  us comedian bil...   \n",
       "\n",
       "                                             summary  \n",
       "0  ray has been nominated in six oscar categories...  \n",
       "1  a film based on the internet musings of the \"b...  \n",
       "2  ms clarkson's legal action, filed in los angel...  \n",
       "3  the permanent replacement for late dj john pee...  \n",
       "4  cosby's lawyer, walter m phillips jr, said the...  "
      ]
     },
     "execution_count": 4,
     "metadata": {},
     "output_type": "execute_result"
    }
   ],
   "source": [
    "df.head(5)"
   ]
  },
  {
   "cell_type": "code",
   "execution_count": 7,
   "metadata": {},
   "outputs": [],
   "source": [
    "def lower_text(text):\n",
    "    return text.lower()\n",
    "\n",
    "df[\"article\"] = df[\"article\"].map(lower_text)\n",
    "df[\"summary\"] = df[\"summary\"].map(lower_text)"
   ]
  },
  {
   "cell_type": "code",
   "execution_count": 10,
   "metadata": {},
   "outputs": [],
   "source": [
    "def remove_newlines(text):\n",
    "    return re.sub(r\"\\n\", \" \", text)\n",
    "\n",
    "df[\"article\"] = df[\"article\"].map(remove_newlines)\n",
    "df[\"summary\"] = df[\"summary\"].map(remove_newlines)"
   ]
  },
  {
   "cell_type": "code",
   "execution_count": 12,
   "metadata": {},
   "outputs": [],
   "source": [
    "df.to_csv(\"../data/news_dataset.csv\", index=False)"
   ]
  },
  {
   "cell_type": "code",
   "execution_count": 6,
   "metadata": {},
   "outputs": [
    {
     "data": {
      "text/plain": [
       "article    0\n",
       "summary    0\n",
       "dtype: int64"
      ]
     },
     "execution_count": 6,
     "metadata": {},
     "output_type": "execute_result"
    }
   ],
   "source": [
    "df.isna().sum()"
   ]
  },
  {
   "cell_type": "code",
   "execution_count": 7,
   "metadata": {},
   "outputs": [],
   "source": [
    "from sklearn.model_selection import train_test_split\n",
    "\n",
    "train_df, test_df = train_test_split(df, test_size=0.2, random_state=42)\n",
    "\n",
    "train_df.to_csv(\"../data/train.csv\", index=False)\n",
    "test_df.to_csv(\"../data/test.csv\", index=False)"
   ]
  },
  {
   "cell_type": "code",
   "execution_count": 12,
   "metadata": {},
   "outputs": [],
   "source": [
    "import string\n",
    "\n",
    "def remove_punc(text):\n",
    "    return text.translate(str.maketrans('', '', string.punctuation))\n",
    "\n",
    "test_df[\"article\"] = test_df[\"article\"].map(remove_punc)\n",
    "test_df[\"summary\"] = test_df[\"summary\"].map(remove_punc)"
   ]
  },
  {
   "cell_type": "code",
   "execution_count": 11,
   "metadata": {},
   "outputs": [
    {
     "data": {
      "text/html": [
       "<div>\n",
       "<style scoped>\n",
       "    .dataframe tbody tr th:only-of-type {\n",
       "        vertical-align: middle;\n",
       "    }\n",
       "\n",
       "    .dataframe tbody tr th {\n",
       "        vertical-align: top;\n",
       "    }\n",
       "\n",
       "    .dataframe thead th {\n",
       "        text-align: right;\n",
       "    }\n",
       "</style>\n",
       "<table border=\"1\" class=\"dataframe\">\n",
       "  <thead>\n",
       "    <tr style=\"text-align: right;\">\n",
       "      <th></th>\n",
       "      <th>article</th>\n",
       "      <th>summary</th>\n",
       "    </tr>\n",
       "  </thead>\n",
       "  <tbody>\n",
       "    <tr>\n",
       "      <th>1026</th>\n",
       "      <td>yachvili savours france comeback  france scrum...</td>\n",
       "      <td>we didnt play last week against scotland and w...</td>\n",
       "    </tr>\n",
       "    <tr>\n",
       "      <th>825</th>\n",
       "      <td>keegan hails comeback king fowler  manchester ...</td>\n",
       "      <td>fowlers double strike helped city come back fr...</td>\n",
       "    </tr>\n",
       "    <tr>\n",
       "      <th>1834</th>\n",
       "      <td>stock market eyes japan recovery  japanese sha...</td>\n",
       "      <td>japanese shares have ended the year at their h...</td>\n",
       "    </tr>\n",
       "    <tr>\n",
       "      <th>327</th>\n",
       "      <td>pupils to get antipiracy lessons  lessons on m...</td>\n",
       "      <td>music piracy including illegally swapping musi...</td>\n",
       "    </tr>\n",
       "    <tr>\n",
       "      <th>2221</th>\n",
       "      <td>germany calls for eu reform  german chancellor...</td>\n",
       "      <td>mr schroeder also called for heads of governme...</td>\n",
       "    </tr>\n",
       "  </tbody>\n",
       "</table>\n",
       "</div>"
      ],
      "text/plain": [
       "                                                article  \\\n",
       "1026  yachvili savours france comeback  france scrum...   \n",
       "825   keegan hails comeback king fowler  manchester ...   \n",
       "1834  stock market eyes japan recovery  japanese sha...   \n",
       "327   pupils to get antipiracy lessons  lessons on m...   \n",
       "2221  germany calls for eu reform  german chancellor...   \n",
       "\n",
       "                                                summary  \n",
       "1026  we didnt play last week against scotland and w...  \n",
       "825   fowlers double strike helped city come back fr...  \n",
       "1834  japanese shares have ended the year at their h...  \n",
       "327   music piracy including illegally swapping musi...  \n",
       "2221  mr schroeder also called for heads of governme...  "
      ]
     },
     "execution_count": 11,
     "metadata": {},
     "output_type": "execute_result"
    }
   ],
   "source": [
    "train_df.sample(5)"
   ]
  },
  {
   "cell_type": "code",
   "execution_count": 13,
   "metadata": {},
   "outputs": [],
   "source": [
    "test_df.to_csv(\"../data/train.csv\", index=False)"
   ]
  }
 ],
 "metadata": {
  "kernelspec": {
   "display_name": "PyTorch",
   "language": "python",
   "name": "python3"
  },
  "language_info": {
   "codemirror_mode": {
    "name": "ipython",
    "version": 3
   },
   "file_extension": ".py",
   "mimetype": "text/x-python",
   "name": "python",
   "nbconvert_exporter": "python",
   "pygments_lexer": "ipython3",
   "version": "3.12.3"
  }
 },
 "nbformat": 4,
 "nbformat_minor": 2
}
